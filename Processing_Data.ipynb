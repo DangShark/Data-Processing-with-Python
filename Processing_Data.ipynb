{
 "cells": [
  {
   "metadata": {
    "collapsed": true,
    "ExecuteTime": {
     "end_time": "2024-11-17T07:36:13.551456Z",
     "start_time": "2024-11-17T07:36:13.545683Z"
    }
   },
   "cell_type": "code",
   "source": [
    "import pandas as pd\n",
    "import numpy as np\n",
    "import matplotlib.pyplot as plt\n",
    "import seaborn as sns\n",
    "pd.set_option('display.max_columns', None)\n",
    "pd.set_option('display.max_colwidth', None)"
   ],
   "id": "initial_id",
   "outputs": [],
   "execution_count": 4
  },
  {
   "metadata": {
    "ExecuteTime": {
     "end_time": "2024-11-17T07:36:16.817160Z",
     "start_time": "2024-11-17T07:36:14.549466Z"
    }
   },
   "cell_type": "code",
   "source": [
    "# Dữ liệu từng năm 2022 2023 2024\n",
    "df_2022 = pd.read_csv('diem2022.csv')\n",
    "df_2023 = pd.read_csv('diem2023.csv')\n",
    "df_2024 = pd.read_csv('diem2024.csv')"
   ],
   "id": "47b9ffd663c38fb3",
   "outputs": [],
   "execution_count": 5
  },
  {
   "metadata": {
    "ExecuteTime": {
     "end_time": "2024-11-17T07:36:17.436430Z",
     "start_time": "2024-11-17T07:36:17.311989Z"
    }
   },
   "cell_type": "code",
   "source": [
    "# dữ liệu tổng 3 năm\n",
    "df_all = pd.concat([df_2024,df_2023,df_2022], ignore_index=True)\n",
    "df_all.info()"
   ],
   "id": "b0985543f8fd43b2",
   "outputs": [
    {
     "name": "stdout",
     "output_type": "stream",
     "text": [
      "<class 'pandas.core.frame.DataFrame'>\n",
      "RangeIndex: 3079106 entries, 0 to 3079105\n",
      "Data columns (total 17 columns):\n",
      " #   Column     Dtype  \n",
      "---  ------     -----  \n",
      " 0   sbd        int64  \n",
      " 1   toan       float64\n",
      " 2   ngu_van    float64\n",
      " 3   ngoai_ngu  float64\n",
      " 4   vat_li     float64\n",
      " 5   hoa_hoc    float64\n",
      " 6   sinh_hoc   float64\n",
      " 7   lich_su    float64\n",
      " 8   dia_li     float64\n",
      " 9   gdcd       float64\n",
      " 10  a00        float64\n",
      " 11  a01        float64\n",
      " 12  b00        float64\n",
      " 13  d00        float64\n",
      " 14  c00        float64\n",
      " 15  tinh_thi   object \n",
      " 16  nam_thi    int64  \n",
      "dtypes: float64(14), int64(2), object(1)\n",
      "memory usage: 399.4+ MB\n"
     ]
    }
   ],
   "execution_count": 6
  },
  {
   "metadata": {
    "ExecuteTime": {
     "end_time": "2024-11-17T07:35:48.809599Z",
     "start_time": "2024-11-17T07:35:42.227069Z"
    }
   },
   "cell_type": "code",
   "source": "",
   "id": "8345495c5a491643",
   "outputs": [],
   "execution_count": 3
  }
 ],
 "metadata": {
  "kernelspec": {
   "display_name": "Python 3",
   "language": "python",
   "name": "python3"
  },
  "language_info": {
   "codemirror_mode": {
    "name": "ipython",
    "version": 2
   },
   "file_extension": ".py",
   "mimetype": "text/x-python",
   "name": "python",
   "nbconvert_exporter": "python",
   "pygments_lexer": "ipython2",
   "version": "2.7.6"
  }
 },
 "nbformat": 4,
 "nbformat_minor": 5
}
