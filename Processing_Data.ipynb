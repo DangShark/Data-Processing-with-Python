{
 "cells": [
  {
   "cell_type": "code",
   "id": "initial_id",
   "metadata": {
    "collapsed": true,
    "ExecuteTime": {
     "end_time": "2024-11-17T03:24:52.139927Z",
     "start_time": "2024-11-17T03:24:52.136360Z"
    }
   },
   "source": [
    "import pandas as pd\n",
    "import numpy as np\n",
    "import matplotlib.pyplot as plt\n",
    "import seaborn as sns\n",
    "pd.set_option('display.max_columns', None)\n",
    "pd.set_option('display.max_colwidth', None)"
   ],
   "outputs": [],
   "execution_count": 5
  },
  {
   "metadata": {
    "ExecuteTime": {
     "end_time": "2024-11-17T03:24:54.418528Z",
     "start_time": "2024-11-17T03:24:52.145949Z"
    }
   },
   "cell_type": "code",
   "source": [
    "# Dữ liệu từng năm 2022 2023 2024\n",
    "df_2022 = pd.read_csv('diem2022.csv')\n",
    "df_2023 = pd.read_csv('diem2023.csv')\n",
    "df_2024 = pd.read_csv('diem2024.csv')"
   ],
   "id": "47b9ffd663c38fb3",
   "outputs": [],
   "execution_count": 6
  },
  {
   "metadata": {
    "ExecuteTime": {
     "end_time": "2024-11-17T03:24:54.549245Z",
     "start_time": "2024-11-17T03:24:54.439207Z"
    }
   },
   "cell_type": "code",
   "source": [
    "# dữ liệu tổng 3 năm\n",
    "df_all = pd.concat([df_2024,df_2023,df_2022], ignore_index=True)\n",
    "df_all.info()"
   ],
   "id": "b0985543f8fd43b2",
   "outputs": [
    {
     "name": "stdout",
     "output_type": "stream",
     "text": [
      "<class 'pandas.core.frame.DataFrame'>\n",
      "RangeIndex: 3079106 entries, 0 to 3079105\n",
      "Data columns (total 16 columns):\n",
      " #   Column     Dtype  \n",
      "---  ------     -----  \n",
      " 0   sbd        int64  \n",
      " 1   toan       float64\n",
      " 2   ngu_van    float64\n",
      " 3   ngoai_ngu  float64\n",
      " 4   vat_li     float64\n",
      " 5   hoa_hoc    float64\n",
      " 6   sinh_hoc   float64\n",
      " 7   lich_su    float64\n",
      " 8   dia_li     float64\n",
      " 9   gdcd       float64\n",
      " 10  a00        float64\n",
      " 11  a01        float64\n",
      " 12  b00        float64\n",
      " 13  d00        float64\n",
      " 14  c00        float64\n",
      " 15  tinh_thi   object \n",
      "dtypes: float64(14), int64(1), object(1)\n",
      "memory usage: 375.9+ MB\n"
     ]
    }
   ],
   "execution_count": 7
  }
 ],
 "metadata": {
  "kernelspec": {
   "display_name": "Python 3",
   "language": "python",
   "name": "python3"
  },
  "language_info": {
   "codemirror_mode": {
    "name": "ipython",
    "version": 2
   },
   "file_extension": ".py",
   "mimetype": "text/x-python",
   "name": "python",
   "nbconvert_exporter": "python",
   "pygments_lexer": "ipython2",
   "version": "2.7.6"
  }
 },
 "nbformat": 4,
 "nbformat_minor": 5
}
