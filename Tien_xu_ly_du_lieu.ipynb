{
 "cells": [
  {
   "cell_type": "code",
   "id": "initial_id",
   "metadata": {
    "collapsed": true,
    "ExecuteTime": {
     "end_time": "2024-11-18T01:57:00.620241Z",
     "start_time": "2024-11-18T01:57:00.609798Z"
    }
   },
   "source": [
    "import numpy as np\n",
    "import pandas as pd\n",
    "import matplotlib.pyplot as plt"
   ],
   "outputs": [],
   "execution_count": 7
  },
  {
   "metadata": {},
   "cell_type": "raw",
   "source": "1. Xử lý dữ liệu thêm cột điểm thi các khối vào file dữ liệu gốc",
   "id": "57aa591c0d44dfde"
  },
  {
   "metadata": {
    "ExecuteTime": {
     "end_time": "2024-11-18T01:57:00.642129Z",
     "start_time": "2024-11-18T01:57:00.635871Z"
    }
   },
   "cell_type": "code",
   "source": [
    "\n",
    "import pandas as pd\n",
    "'''\n",
    "# Đọc file CSV\n",
    "df = pd.read_csv('diem2022.csv')\n",
    "print(df.dtypes)\n",
    "# Thêm các cột khối với tổng điểm 3 môn tương ứng\n",
    "df['a00'] = round((df['toan'] + df['vat_li'] + df['hoa_hoc']),2)  # Khối A00: Toán, Lý, Hóa\n",
    "df['a01'] = round((df['toan'] + df['vat_li'] + df['ngoai_ngu']),2)  # Khối A01: Toán, Lý, Anh\n",
    "df['b00'] = round((df['toan'] + df['hoa_hoc'] + df['sinh_hoc']),2)\n",
    "df['d00'] = round((df['toan'] + df['ngu_van'] + df['ngoai_ngu']),2)   # Khối D00: Toán, Văn, Anh\n",
    "df['c00'] = round((df['ngu_van'] + df['lich_su'] + df['dia_li']),2)   # Khối C00: Văn, Sử, Địa\n",
    "# # Lưu lại DataFrame đã chỉnh sửa vào file CSV gốc\n",
    "df.to_csv('diem2022.csv', index=False)\n",
    "'''"
   ],
   "id": "e10b15ddd1081436",
   "outputs": [
    {
     "data": {
      "text/plain": [
       "\"\\n# Đọc file CSV\\ndf = pd.read_csv('diem2022.csv')\\nprint(df.dtypes)\\n# Thêm các cột khối với tổng điểm 3 môn tương ứng\\ndf['a00'] = round((df['toan'] + df['vat_li'] + df['hoa_hoc']),2)  # Khối A00: Toán, Lý, Hóa\\ndf['a01'] = round((df['toan'] + df['vat_li'] + df['ngoai_ngu']),2)  # Khối A01: Toán, Lý, Anh\\ndf['b00'] = round((df['toan'] + df['hoa_hoc'] + df['sinh_hoc']),2)\\ndf['d00'] = round((df['toan'] + df['ngu_van'] + df['ngoai_ngu']),2)   # Khối D00: Toán, Văn, Anh\\ndf['c00'] = round((df['ngu_van'] + df['lich_su'] + df['dia_li']),2)   # Khối C00: Văn, Sử, Địa\\n# # Lưu lại DataFrame đã chỉnh sửa vào file CSV gốc\\ndf.to_csv('diem2022.csv', index=False)\\n\""
      ]
     },
     "execution_count": 8,
     "metadata": {},
     "output_type": "execute_result"
    }
   ],
   "execution_count": 8
  },
  {
   "metadata": {},
   "cell_type": "raw",
   "source": "2. Thêm cột tỉnh thành nơi các thí sinh thi dựa vào số báo danh của từng thí sinh",
   "id": "79bbe6d99f755f82"
  },
  {
   "metadata": {
    "ExecuteTime": {
     "end_time": "2024-11-18T01:57:00.660218Z",
     "start_time": "2024-11-18T01:57:00.655283Z"
    }
   },
   "cell_type": "code",
   "source": [
    "import pandas as pd\n",
    "\n",
    "# Đọc file CSV\n",
    "'''\n",
    "df = pd.read_csv('diem2022.csv')\n",
    "# Hàm xác định mã tỉnh từ 2 chữ số đầu\n",
    "def get_tinh_thi(sbd):\n",
    "    # Kiểm tra nếu số báo danh có 7 chữ số, thêm 1 số 0 vào đầu\n",
    "    if len(sbd) == 7:\n",
    "        sbd = '0' + sbd\n",
    "\n",
    "    # Lấy 2 chữ số đầu để xác định mã tỉnh\n",
    "    province_code = sbd[:2]\n",
    "\n",
    "    # Danh sách mã tỉnh\n",
    "    provinces = {\n",
    "    '01': 'Hà Nội',\n",
    "    '02': 'TP. Hồ Chí Minh',\n",
    "    '03': 'Hải Phòng',\n",
    "    '04': 'Đà Nẵng',\n",
    "    '05': 'Hà Giang',\n",
    "    '06': 'Cao Bằng',\n",
    "    '07': 'Lai Châu',\n",
    "    '08': 'Lào Cai',\n",
    "    '09': 'Tuyên Quang',\n",
    "    '10': 'Lạng Sơn',\n",
    "    '11': 'Bắc Kạn',\n",
    "    '12': 'Thái Nguyên',\n",
    "    '13': 'Yên Bái',\n",
    "    '14': 'Sơn La',\n",
    "    '15': 'Phú Thọ',\n",
    "    '16': 'Vĩnh Phúc',\n",
    "    '17': 'Quảng Ninh',\n",
    "    '18': 'Bắc Giang',\n",
    "    '19': 'Bắc Ninh',\n",
    "    '21': 'Hải Dương',\n",
    "    '22': 'Hưng Yên',\n",
    "    '23': 'Hòa Bình',\n",
    "    '24': 'Hà Nam',\n",
    "    '25': 'Nam Định',\n",
    "    '26': 'Thái Bình',\n",
    "    '27': 'Ninh Bình',\n",
    "    '28': 'Thanh Hóa',\n",
    "    '29': 'Nghệ An',\n",
    "    '30': 'Hà Tĩnh',\n",
    "    '31': 'Quảng Bình',\n",
    "    '32': 'Quảng Trị',\n",
    "    '33': 'Thừa Thiên Huế',\n",
    "    '34': 'Quảng Nam',\n",
    "    '35': 'Quảng Ngãi',\n",
    "    '36': 'Kon Tum',\n",
    "    '37': 'Bình Định',\n",
    "    '38': 'Gia Lai',\n",
    "    '39': 'Phú Yên',\n",
    "    '40': 'Đăk Lăk',\n",
    "    '41': 'Khánh Hòa',\n",
    "    '42': 'Lâm Đồng',\n",
    "    '43': 'Bình Phước',\n",
    "    '44': 'Bình Dương',\n",
    "    '45': 'Ninh Thuận',\n",
    "    '46': 'Tây Ninh',\n",
    "    '47': 'Bình Thuận',\n",
    "    '48': 'Đồng Nai',\n",
    "    '49': 'Long An',\n",
    "    '50': 'Đồng Tháp',\n",
    "    '51': 'An Giang',\n",
    "    '52': 'Bà Rịa - Vũng Tàu',\n",
    "    '53': 'Tiền Giang',\n",
    "    '54': 'Kiên Giang',\n",
    "    '55': 'Cần Thơ',\n",
    "    '56': 'Bến Tre',\n",
    "    '57': 'Vĩnh Long',\n",
    "    '58': 'Trà Vinh',\n",
    "    '59': 'Sóc Trăng',\n",
    "    '60': 'Bạc Liêu',\n",
    "    '61': 'Cà Mau',\n",
    "    '62': 'Điện Biên',\n",
    "    '63': 'Đăk Nông',\n",
    "    '64': 'Hậu Giang'\n",
    "}\n",
    "    return provinces.get(province_code, 'Mã tỉnh không hợp lệ')\n",
    "\n",
    "# Áp dụng hàm lên từng hàng trong dataframe\n",
    "df['tinh_thi'] = df['sbd'].apply(lambda x: get_tinh_thi(str(x)))\n",
    "\n",
    "# Lưu kết quả vào file mới và ko làm thay đổi chỉ số index ban đầu\n",
    "df.to_csv('diem2022.csv', index=False)\n",
    "\n",
    "'''"
   ],
   "id": "ac963b70df476548",
   "outputs": [
    {
     "data": {
      "text/plain": [
       "\"\\ndf = pd.read_csv('diem2022.csv')\\n# Hàm xác định mã tỉnh từ 2 chữ số đầu\\ndef get_tinh_thi(sbd):\\n    # Kiểm tra nếu số báo danh có 7 chữ số, thêm 1 số 0 vào đầu\\n    if len(sbd) == 7:\\n        sbd = '0' + sbd\\n\\n    # Lấy 2 chữ số đầu để xác định mã tỉnh\\n    province_code = sbd[:2]\\n\\n    # Danh sách mã tỉnh\\n    provinces = {\\n    '01': 'Hà Nội',\\n    '02': 'TP. Hồ Chí Minh',\\n    '03': 'Hải Phòng',\\n    '04': 'Đà Nẵng',\\n    '05': 'Hà Giang',\\n    '06': 'Cao Bằng',\\n    '07': 'Lai Châu',\\n    '08': 'Lào Cai',\\n    '09': 'Tuyên Quang',\\n    '10': 'Lạng Sơn',\\n    '11': 'Bắc Kạn',\\n    '12': 'Thái Nguyên',\\n    '13': 'Yên Bái',\\n    '14': 'Sơn La',\\n    '15': 'Phú Thọ',\\n    '16': 'Vĩnh Phúc',\\n    '17': 'Quảng Ninh',\\n    '18': 'Bắc Giang',\\n    '19': 'Bắc Ninh',\\n    '21': 'Hải Dương',\\n    '22': 'Hưng Yên',\\n    '23': 'Hòa Bình',\\n    '24': 'Hà Nam',\\n    '25': 'Nam Định',\\n    '26': 'Thái Bình',\\n    '27': 'Ninh Bình',\\n    '28': 'Thanh Hóa',\\n    '29': 'Nghệ An',\\n    '30': 'Hà Tĩnh',\\n    '31': 'Quảng Bình',\\n    '32': 'Quảng Trị',\\n    '33': 'Thừa Thiên Huế',\\n    '34': 'Quảng Nam',\\n    '35': 'Quảng Ngãi',\\n    '36': 'Kon Tum',\\n    '37': 'Bình Định',\\n    '38': 'Gia Lai',\\n    '39': 'Phú Yên',\\n    '40': 'Đăk Lăk',\\n    '41': 'Khánh Hòa',\\n    '42': 'Lâm Đồng',\\n    '43': 'Bình Phước',\\n    '44': 'Bình Dương',\\n    '45': 'Ninh Thuận',\\n    '46': 'Tây Ninh',\\n    '47': 'Bình Thuận',\\n    '48': 'Đồng Nai',\\n    '49': 'Long An',\\n    '50': 'Đồng Tháp',\\n    '51': 'An Giang',\\n    '52': 'Bà Rịa - Vũng Tàu',\\n    '53': 'Tiền Giang',\\n    '54': 'Kiên Giang',\\n    '55': 'Cần Thơ',\\n    '56': 'Bến Tre',\\n    '57': 'Vĩnh Long',\\n    '58': 'Trà Vinh',\\n    '59': 'Sóc Trăng',\\n    '60': 'Bạc Liêu',\\n    '61': 'Cà Mau',\\n    '62': 'Điện Biên',\\n    '63': 'Đăk Nông',\\n    '64': 'Hậu Giang'\\n}\\n    return provinces.get(province_code, 'Mã tỉnh không hợp lệ')\\n\\n# Áp dụng hàm lên từng hàng trong dataframe\\ndf['tinh_thi'] = df['sbd'].apply(lambda x: get_tinh_thi(str(x)))\\n\\n# Lưu kết quả vào file mới và ko làm thay đổi chỉ số index ban đầu\\ndf.to_csv('diem2022.csv', index=False)\\n\\n\""
      ]
     },
     "execution_count": 9,
     "metadata": {},
     "output_type": "execute_result"
    }
   ],
   "execution_count": 9
  },
  {
   "metadata": {},
   "cell_type": "raw",
   "source": "3. Thêm cột năm thi vào từng file dữ liệu gốc",
   "id": "752970f198427374"
  },
  {
   "metadata": {
    "ExecuteTime": {
     "end_time": "2024-11-18T01:57:00.682720Z",
     "start_time": "2024-11-18T01:57:00.669725Z"
    }
   },
   "cell_type": "code",
   "source": [
    "'''\n",
    "df = pd.read_csv('diem2022.csv')\n",
    "df['nam_thi'] = 2022\n",
    "df.to_csv('diem2022.csv', index=False)\n",
    "'''"
   ],
   "id": "dc1d0ebb0d465105",
   "outputs": [
    {
     "data": {
      "text/plain": [
       "\"\\ndf = pd.read_csv('diem2022.csv')\\ndf['nam_thi'] = 2022\\ndf.to_csv('diem2022.csv', index=False)\\n\""
      ]
     },
     "execution_count": 10,
     "metadata": {},
     "output_type": "execute_result"
    }
   ],
   "execution_count": 10
  },
  {
   "metadata": {},
   "cell_type": "raw",
   "source": "4. Kiểm tra xem có dữ liệu điểm bất thương nào không như là: điểm > 10 hoặc điểm < 0",
   "id": "98b33645bbe4aba1"
  },
  {
   "metadata": {
    "ExecuteTime": {
     "end_time": "2024-11-18T01:57:01.633530Z",
     "start_time": "2024-11-18T01:57:00.711814Z"
    }
   },
   "cell_type": "code",
   "source": [
    "import pandas as pd\n",
    "\n",
    "df = pd.read_csv('diem2022.csv')\n",
    "\n",
    "# Kiểm tra xem có giá trị nào bất thường trong cột 'toan' không\n",
    "diem_bat_thuong = df[(df['toan'] < 0) | (df['toan'] > 10)]\n",
    "\n",
    "if not diem_bat_thuong.empty:\n",
    "    print('Có điểm bất thường trong cột toán:')\n",
    "    print(diem_bat_thuong)\n",
    "else:\n",
    "    print('Không có điểm bất thường trong cột toán.')\n"
   ],
   "id": "71222975f345a787",
   "outputs": [
    {
     "name": "stdout",
     "output_type": "stream",
     "text": [
      "Không có điểm bất thường trong cột toán.\n"
     ]
    }
   ],
   "execution_count": 11
  }
 ],
 "metadata": {
  "kernelspec": {
   "display_name": "Python 3",
   "language": "python",
   "name": "python3"
  },
  "language_info": {
   "codemirror_mode": {
    "name": "ipython",
    "version": 2
   },
   "file_extension": ".py",
   "mimetype": "text/x-python",
   "name": "python",
   "nbconvert_exporter": "python",
   "pygments_lexer": "ipython2",
   "version": "2.7.6"
  }
 },
 "nbformat": 4,
 "nbformat_minor": 5
}
