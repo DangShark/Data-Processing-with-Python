{
 "cells": [
  {
   "metadata": {
    "collapsed": true,
    "ExecuteTime": {
     "end_time": "2024-12-07T07:48:08.041840Z",
     "start_time": "2024-12-07T07:48:04.856015Z"
    }
   },
   "cell_type": "code",
   "source": [
    "import numpy as np\n",
    "import pandas as pd\n",
    "import matplotlib.pyplot as plt\n",
    "# Đọc dữ liệu từng năm 2022 2023 2024\n",
    "df_2022 = pd.read_csv('diem2022.csv')\n",
    "df_2023 = pd.read_csv('diem2023.csv')\n",
    "df_2024 = pd.read_csv('diem2024.csv')\n",
    "\n",
    "# Nối dữ liệu 3 năm thành 1 Dataframe tổng\n",
    "df_all = pd.concat([df_2024,df_2023,df_2022], ignore_index=True)\n",
    "df_all.info()"
   ],
   "id": "initial_id",
   "outputs": [
    {
     "name": "stdout",
     "output_type": "stream",
     "text": [
      "<class 'pandas.core.frame.DataFrame'>\n",
      "RangeIndex: 3074623 entries, 0 to 3074622\n",
      "Data columns (total 17 columns):\n",
      " #   Column     Dtype  \n",
      "---  ------     -----  \n",
      " 0   sbd        int64  \n",
      " 1   toan       float64\n",
      " 2   ngu_van    float64\n",
      " 3   ngoai_ngu  float64\n",
      " 4   vat_li     float64\n",
      " 5   hoa_hoc    float64\n",
      " 6   sinh_hoc   float64\n",
      " 7   lich_su    float64\n",
      " 8   dia_li     float64\n",
      " 9   gdcd       float64\n",
      " 10  a00        float64\n",
      " 11  a01        float64\n",
      " 12  b00        float64\n",
      " 13  d00        float64\n",
      " 14  c00        float64\n",
      " 15  tinh_thi   object \n",
      " 16  nam_thi    int64  \n",
      "dtypes: float64(14), int64(2), object(1)\n",
      "memory usage: 398.8+ MB\n"
     ]
    }
   ],
   "execution_count": 1
  },
  {
   "metadata": {
    "ExecuteTime": {
     "end_time": "2024-12-07T07:48:10.916887Z",
     "start_time": "2024-12-07T07:48:10.825218Z"
    }
   },
   "cell_type": "code",
   "source": [
    "#Kiểm tra xem có dữ liệu điểm bất thương nào không như là: điểm > 10 hoặc điểm < 0\n",
    "mon_hoc = ['toan', 'ngu_van', 'ngoai_ngu', 'vat_li', 'hoa_hoc',\n",
    "           'sinh_hoc', 'lich_su', 'dia_li', 'gdcd']\n",
    "\n",
    "diem_bat_thuong = pd.DataFrame()\n",
    "for i in mon_hoc:\n",
    "    bat_thuong = df_all[(df_all[i] < 0) | (df_all[i] > 10)]\n",
    "    if not bat_thuong.empty:\n",
    "        bat_thuong['mon_hoc'] = i\n",
    "        diem_bat_thuong = pd.concat([diem_bat_thuong, bat_thuong])\n",
    "\n",
    "if not diem_bat_thuong.empty :\n",
    "    print('Có điểm bất thường trong dữ liệu:')\n",
    "    print(diem_bat_thuong)\n",
    "else:\n",
    "    print('Không có điểm bất thường trong dữ liệu.')\n"
   ],
   "id": "71222975f345a787",
   "outputs": [
    {
     "name": "stdout",
     "output_type": "stream",
     "text": [
      "Không có điểm bất thường trong dữ liệu.\n"
     ]
    }
   ],
   "execution_count": 2
  },
  {
   "metadata": {
    "ExecuteTime": {
     "end_time": "2024-12-02T13:58:45.217766Z",
     "start_time": "2024-12-02T13:58:38.634228Z"
    }
   },
   "cell_type": "code",
   "outputs": [],
   "execution_count": 46,
   "source": [
    "# Xóa các thí sinh không thi môn nào trong 9 môn\n",
    "'''df_2022 = pd.read_csv('diem2024.csv')\n",
    "mon_hoc = ['toan', 'ngu_van', 'ngoai_ngu', 'vat_li', 'hoa_hoc',\n",
    "           'sinh_hoc', 'lich_su', 'dia_li', 'gdcd']\n",
    "# lọc các thí sinh không thi môn nào\n",
    "df = df_2022.loc[df_2022[mon_hoc].isnull().all(axis=1)]\n",
    "print(df)\n",
    "# xóa các thí sinh đó khỏi dữ liệu\n",
    "df_2022 = df_2022.drop(index=df.index)\n",
    "# lưu vào file dữ liệu\n",
    "df_2022.to_csv('diem2024.csv', index=False)'''"
   ],
   "id": "7c0dc7303c8c806f"
  },
  {
   "metadata": {
    "ExecuteTime": {
     "end_time": "2024-12-07T07:50:34.552997Z",
     "start_time": "2024-12-07T07:50:33.527324Z"
    }
   },
   "cell_type": "code",
   "source": [
    "# kiểm tra điểm văn bất tưởng\n",
    "df_2024 = pd.read_csv('diem2024.csv')\n",
    "mis = df_2024[(df_2024['ngu_van'] % 0.25 != 0) & (df_2024['ngu_van'].notnull())]\n",
    "print(mis)\n"
   ],
   "id": "5874de2f74a79f39",
   "outputs": [
    {
     "name": "stdout",
     "output_type": "stream",
     "text": [
      "Empty DataFrame\n",
      "Columns: [sbd, toan, ngu_van, ngoai_ngu, vat_li, hoa_hoc, sinh_hoc, lich_su, dia_li, gdcd, a00, a01, b00, d00, c00, tinh_thi, nam_thi]\n",
      "Index: []\n"
     ]
    }
   ],
   "execution_count": 3
  },
  {
   "metadata": {},
   "cell_type": "code",
   "outputs": [],
   "execution_count": null,
   "source": [
    "# xử lý làm tròn điểm môn văn bất thưởng vì có điểm văn không chấm theo thang 0.25\n",
    "'''from numpy import float64\n",
    "def lam_tron(val):\n",
    "    if np.isnan(val):\n",
    "        return val\n",
    "    tmp = val - int(val)\n",
    "    if tmp == 0 or tmp == 0.25 or tmp == 0.5 or tmp == 0.75:\n",
    "        return float64(val)\n",
    "    elif tmp > 0 and tmp < 0.25:\n",
    "        return float64(int(val))\n",
    "    elif tmp > 0.25 and tmp < 0.75:\n",
    "        return float64(int(val) + 0.5)\n",
    "    else:\n",
    "        return float64(int(val) + 1)\n",
    "\n",
    "df_2024['ngu_van'] = df_2024['ngu_van'].apply(lam_tron)\n",
    "df_2024.to_csv('diem2024.csv', index=False)'''\n"
   ],
   "id": "78c98a6fd69efc77"
  },
  {
   "metadata": {
    "ExecuteTime": {
     "end_time": "2024-11-26T08:45:54.052704Z",
     "start_time": "2024-11-26T08:45:47.360540Z"
    }
   },
   "cell_type": "code",
   "outputs": [
    {
     "name": "stdout",
     "output_type": "stream",
     "text": [
      "sbd            int64\n",
      "toan         float64\n",
      "ngu_van      float64\n",
      "ngoai_ngu    float64\n",
      "vat_li       float64\n",
      "hoa_hoc      float64\n",
      "sinh_hoc     float64\n",
      "lich_su      float64\n",
      "dia_li       float64\n",
      "gdcd         float64\n",
      "a00          float64\n",
      "a01          float64\n",
      "b00          float64\n",
      "d00          float64\n",
      "c00          float64\n",
      "tinh_thi      object\n",
      "nam_thi        int64\n",
      "dtype: object\n"
     ]
    }
   ],
   "execution_count": 3,
   "source": [
    "# Thêm cột khối thi phục vụ phân tích\n",
    "'''df = pd.read_csv('diem2024.csv')\n",
    "# Thêm các cột khối thi làm tròn đến số thập phân thứ 2\n",
    "df['a00'] = round((df['toan'] + df['vat_li'] + df['hoa_hoc']),2)\n",
    "df['a01'] = round((df['toan'] + df['vat_li'] + df['ngoai_ngu']),2)\n",
    "df['b00'] = round((df['toan'] + df['hoa_hoc'] + df['sinh_hoc']),2)\n",
    "df['d00'] = round((df['toan'] + df['ngu_van'] + df['ngoai_ngu']),2)\n",
    "df['c00'] = round((df['ngu_van'] + df['lich_su'] + df['dia_li']),2)\n",
    "#Lưu vào file gốc\n",
    "df.to_csv('diem2024.csv', index=False)'''"
   ],
   "id": "e10b15ddd1081436"
  },
  {
   "metadata": {
    "ExecuteTime": {
     "end_time": "2024-11-18T01:57:00.660218Z",
     "start_time": "2024-11-18T01:57:00.655283Z"
    }
   },
   "cell_type": "code",
   "outputs": [
    {
     "data": {
      "text/plain": [
       "\"\\ndf = pd.read_csv('diem2022.csv')\\n# Hàm xác định mã tỉnh từ 2 chữ số đầu\\ndef get_tinh_thi(sbd):\\n    # Kiểm tra nếu số báo danh có 7 chữ số, thêm 1 số 0 vào đầu\\n    if len(sbd) == 7:\\n        sbd = '0' + sbd\\n\\n    # Lấy 2 chữ số đầu để xác định mã tỉnh\\n    province_code = sbd[:2]\\n\\n    # Danh sách mã tỉnh\\n    provinces = {\\n    '01': 'Hà Nội',\\n    '02': 'TP. Hồ Chí Minh',\\n    '03': 'Hải Phòng',\\n    '04': 'Đà Nẵng',\\n    '05': 'Hà Giang',\\n    '06': 'Cao Bằng',\\n    '07': 'Lai Châu',\\n    '08': 'Lào Cai',\\n    '09': 'Tuyên Quang',\\n    '10': 'Lạng Sơn',\\n    '11': 'Bắc Kạn',\\n    '12': 'Thái Nguyên',\\n    '13': 'Yên Bái',\\n    '14': 'Sơn La',\\n    '15': 'Phú Thọ',\\n    '16': 'Vĩnh Phúc',\\n    '17': 'Quảng Ninh',\\n    '18': 'Bắc Giang',\\n    '19': 'Bắc Ninh',\\n    '21': 'Hải Dương',\\n    '22': 'Hưng Yên',\\n    '23': 'Hòa Bình',\\n    '24': 'Hà Nam',\\n    '25': 'Nam Định',\\n    '26': 'Thái Bình',\\n    '27': 'Ninh Bình',\\n    '28': 'Thanh Hóa',\\n    '29': 'Nghệ An',\\n    '30': 'Hà Tĩnh',\\n    '31': 'Quảng Bình',\\n    '32': 'Quảng Trị',\\n    '33': 'Thừa Thiên Huế',\\n    '34': 'Quảng Nam',\\n    '35': 'Quảng Ngãi',\\n    '36': 'Kon Tum',\\n    '37': 'Bình Định',\\n    '38': 'Gia Lai',\\n    '39': 'Phú Yên',\\n    '40': 'Đăk Lăk',\\n    '41': 'Khánh Hòa',\\n    '42': 'Lâm Đồng',\\n    '43': 'Bình Phước',\\n    '44': 'Bình Dương',\\n    '45': 'Ninh Thuận',\\n    '46': 'Tây Ninh',\\n    '47': 'Bình Thuận',\\n    '48': 'Đồng Nai',\\n    '49': 'Long An',\\n    '50': 'Đồng Tháp',\\n    '51': 'An Giang',\\n    '52': 'Bà Rịa - Vũng Tàu',\\n    '53': 'Tiền Giang',\\n    '54': 'Kiên Giang',\\n    '55': 'Cần Thơ',\\n    '56': 'Bến Tre',\\n    '57': 'Vĩnh Long',\\n    '58': 'Trà Vinh',\\n    '59': 'Sóc Trăng',\\n    '60': 'Bạc Liêu',\\n    '61': 'Cà Mau',\\n    '62': 'Điện Biên',\\n    '63': 'Đăk Nông',\\n    '64': 'Hậu Giang'\\n}\\n    return provinces.get(province_code, 'Mã tỉnh không hợp lệ')\\n\\n# Áp dụng hàm lên từng hàng trong dataframe\\ndf['tinh_thi'] = df['sbd'].apply(lambda x: get_tinh_thi(str(x)))\\n\\n# Lưu kết quả vào file mới và ko làm thay đổi chỉ số index ban đầu\\ndf.to_csv('diem2022.csv', index=False)\\n\\n\""
      ]
     },
     "execution_count": 9,
     "metadata": {},
     "output_type": "execute_result"
    }
   ],
   "execution_count": 9,
   "source": [
    "# Thêm cột tỉnh thi phục vụ phân tích\n",
    "'''\n",
    "def get_tinh_thi(sbd):\n",
    "    # Kiểm tra nếu số báo danh có 7 chữ số, thêm 1 số 0 vào đầu còn nếu có 8 chữ số là đủ\n",
    "    if len(sbd) == 7:\n",
    "        sbd = '0' + sbd\n",
    "    # Lấy 2 chữ số đầu để xác định mã tỉnh\n",
    "    ma_tinh = sbd[:2]\n",
    "    # Danh sách mã tỉnh\n",
    "    tinh_thi = {\n",
    "    '01': 'Hà Nội', '02': 'TP. Hồ Chí Minh', '03': 'Hải Phòng', '04': 'Đà Nẵng', '05': 'Hà Giang',\n",
    "    '06': 'Cao Bằng', '07': 'Lai Châu', '08': 'Lào Cai', '09': 'Tuyên Quang', '10': 'Lạng Sơn',\n",
    "    '11': 'Bắc Kạn', '12': 'Thái Nguyên', '13': 'Yên Bái', '14': 'Sơn La', '15': 'Phú Thọ',\n",
    "    '16': 'Vĩnh Phúc', '17': 'Quảng Ninh', '18': 'Bắc Giang', '19': 'Bắc Ninh', '21': 'Hải Dương',\n",
    "    '22': 'Hưng Yên', '23': 'Hòa Bình', '24': 'Hà Nam', '25': 'Nam Định', '26': 'Thái Bình',\n",
    "    '27': 'Ninh Bình', '28': 'Thanh Hóa', '29': 'Nghệ An', '30': 'Hà Tĩnh', '31': 'Quảng Bình',\n",
    "    '32': 'Quảng Trị', '33': 'Thừa Thiên Huế', '34': 'Quảng Nam', '35': 'Quảng Ngãi', '36': 'Kon Tum',\n",
    "    '37': 'Bình Định', '38': 'Gia Lai', '39': 'Phú Yên', '40': 'Đăk Lăk', '41': 'Khánh Hòa',\n",
    "    '42': 'Lâm Đồng', '43': 'Bình Phước', '44': 'Bình Dương', '45': 'Ninh Thuận', '46': 'Tây Ninh',\n",
    "    '47': 'Bình Thuận', '48': 'Đồng Nai', '49': 'Long An', '50': 'Đồng Tháp', '51': 'An Giang',\n",
    "    '52': 'Bà Rịa - Vũng Tàu', '53': 'Tiền Giang', '54': 'Kiên Giang', '55': 'Cần Thơ', '56': 'Bến Tre',\n",
    "    '57': 'Vĩnh Long', '58': 'Trà Vinh', '59': 'Sóc Trăng', '60': 'Bạc Liêu', '61': 'Cà Mau',\n",
    "    '62': 'Điện Biên', '63': 'Đăk Nông', '64': 'Hậu Giang'\n",
    "    }\n",
    "    return tinh_thi.get(ma_tinh, 'Mã tỉnh không hợp lệ')\n",
    "\n",
    "# Áp dụng lên từng hàng trong dataframe\n",
    "df['tinh_thi'] = df['sbd'].apply(lambda x: get_tinh_thi(str(x)))\n",
    "df.to_csv('diem2022.csv', index=False)\n",
    "'''"
   ],
   "id": "ac963b70df476548"
  },
  {
   "metadata": {
    "ExecuteTime": {
     "end_time": "2024-11-18T01:57:00.682720Z",
     "start_time": "2024-11-18T01:57:00.669725Z"
    }
   },
   "cell_type": "code",
   "outputs": [
    {
     "data": {
      "text/plain": [
       "\"\\ndf = pd.read_csv('diem2022.csv')\\ndf['nam_thi'] = 2022\\ndf.to_csv('diem2022.csv', index=False)\\n\""
      ]
     },
     "execution_count": 10,
     "metadata": {},
     "output_type": "execute_result"
    }
   ],
   "execution_count": 10,
   "source": [
    "# Thêm cột năm thi vào từng file dữ liệu gốc\n",
    "'''\n",
    "df = pd.read_csv('diem2022.csv')\n",
    "df['nam_thi'] = 2022\n",
    "df.to_csv('diem2022.csv', index=False)\n",
    "'''\n"
   ],
   "id": "dc1d0ebb0d465105"
  }
 ],
 "metadata": {
  "kernelspec": {
   "display_name": "Python 3",
   "language": "python",
   "name": "python3"
  },
  "language_info": {
   "codemirror_mode": {
    "name": "ipython",
    "version": 2
   },
   "file_extension": ".py",
   "mimetype": "text/x-python",
   "name": "python",
   "nbconvert_exporter": "python",
   "pygments_lexer": "ipython2",
   "version": "2.7.6"
  }
 },
 "nbformat": 4,
 "nbformat_minor": 5
}
