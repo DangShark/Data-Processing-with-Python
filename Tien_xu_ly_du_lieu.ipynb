{
 "cells": [
  {
   "cell_type": "code",
   "id": "initial_id",
   "metadata": {
    "collapsed": true,
    "ExecuteTime": {
     "end_time": "2024-11-26T08:37:43.521837Z",
     "start_time": "2024-11-26T08:37:43.511405Z"
    }
   },
   "source": [
    "import numpy as np\n",
    "import pandas as pd\n",
    "import matplotlib.pyplot as plt"
   ],
   "outputs": [],
   "execution_count": 2
  },
  {
   "metadata": {},
   "cell_type": "raw",
   "source": "1. Xử lý dữ liệu thêm cột điểm thi các khối vào file dữ liệu gốc",
   "id": "57aa591c0d44dfde"
  },
  {
   "metadata": {
    "ExecuteTime": {
     "end_time": "2024-11-26T08:45:54.052704Z",
     "start_time": "2024-11-26T08:45:47.360540Z"
    }
   },
   "cell_type": "code",
   "source": [
    "\n",
    "import pandas as pd\n",
    "'''\n",
    "# Đọc file CSV\n",
    "df = pd.read_csv('diem2024.csv')\n",
    "print(df.dtypes)\n",
    "# Thêm các cột khối với tổng điểm 3 môn tương ứng\n",
    "df['a00'] = round((df['toan'] + df['vat_li'] + df['hoa_hoc']),2)  # Khối A00: Toán, Lý, Hóa\n",
    "df['a01'] = round((df['toan'] + df['vat_li'] + df['ngoai_ngu']),2)  # Khối A01: Toán, Lý, Anh\n",
    "df['b00'] = round((df['toan'] + df['hoa_hoc'] + df['sinh_hoc']),2)\n",
    "df['d00'] = round((df['toan'] + df['ngu_van'] + df['ngoai_ngu']),2)   # Khối D00: Toán, Văn, Anh\n",
    "df['c00'] = round((df['ngu_van'] + df['lich_su'] + df['dia_li']),2)   # Khối C00: Văn, Sử, Địa\n",
    "# # Lưu lại DataFrame đã chỉnh sửa vào file CSV gốc\n",
    "df.to_csv('diem2024.csv', index=False)\n",
    "'''"
   ],
   "id": "e10b15ddd1081436",
   "outputs": [
    {
     "name": "stdout",
     "output_type": "stream",
     "text": [
      "sbd            int64\n",
      "toan         float64\n",
      "ngu_van      float64\n",
      "ngoai_ngu    float64\n",
      "vat_li       float64\n",
      "hoa_hoc      float64\n",
      "sinh_hoc     float64\n",
      "lich_su      float64\n",
      "dia_li       float64\n",
      "gdcd         float64\n",
      "a00          float64\n",
      "a01          float64\n",
      "b00          float64\n",
      "d00          float64\n",
      "c00          float64\n",
      "tinh_thi      object\n",
      "nam_thi        int64\n",
      "dtype: object\n"
     ]
    }
   ],
   "execution_count": 3
  },
  {
   "metadata": {},
   "cell_type": "raw",
   "source": "2. Thêm cột tỉnh thành nơi các thí sinh thi dựa vào số báo danh của từng thí sinh",
   "id": "79bbe6d99f755f82"
  },
  {
   "metadata": {
    "ExecuteTime": {
     "end_time": "2024-11-18T01:57:00.660218Z",
     "start_time": "2024-11-18T01:57:00.655283Z"
    }
   },
   "cell_type": "code",
   "source": [
    "import pandas as pd\n",
    "\n",
    "# Đọc file CSV\n",
    "'''\n",
    "df = pd.read_csv('diem2022.csv')\n",
    "# Hàm xác định mã tỉnh từ 2 chữ số đầu\n",
    "def get_tinh_thi(sbd):\n",
    "    # Kiểm tra nếu số báo danh có 7 chữ số, thêm 1 số 0 vào đầu\n",
    "    if len(sbd) == 7:\n",
    "        sbd = '0' + sbd\n",
    "\n",
    "    # Lấy 2 chữ số đầu để xác định mã tỉnh\n",
    "    province_code = sbd[:2]\n",
    "\n",
    "    # Danh sách mã tỉnh\n",
    "    provinces = {\n",
    "    '01': 'Hà Nội',\n",
    "    '02': 'TP. Hồ Chí Minh',\n",
    "    '03': 'Hải Phòng',\n",
    "    '04': 'Đà Nẵng',\n",
    "    '05': 'Hà Giang',\n",
    "    '06': 'Cao Bằng',\n",
    "    '07': 'Lai Châu',\n",
    "    '08': 'Lào Cai',\n",
    "    '09': 'Tuyên Quang',\n",
    "    '10': 'Lạng Sơn',\n",
    "    '11': 'Bắc Kạn',\n",
    "    '12': 'Thái Nguyên',\n",
    "    '13': 'Yên Bái',\n",
    "    '14': 'Sơn La',\n",
    "    '15': 'Phú Thọ',\n",
    "    '16': 'Vĩnh Phúc',\n",
    "    '17': 'Quảng Ninh',\n",
    "    '18': 'Bắc Giang',\n",
    "    '19': 'Bắc Ninh',\n",
    "    '21': 'Hải Dương',\n",
    "    '22': 'Hưng Yên',\n",
    "    '23': 'Hòa Bình',\n",
    "    '24': 'Hà Nam',\n",
    "    '25': 'Nam Định',\n",
    "    '26': 'Thái Bình',\n",
    "    '27': 'Ninh Bình',\n",
    "    '28': 'Thanh Hóa',\n",
    "    '29': 'Nghệ An',\n",
    "    '30': 'Hà Tĩnh',\n",
    "    '31': 'Quảng Bình',\n",
    "    '32': 'Quảng Trị',\n",
    "    '33': 'Thừa Thiên Huế',\n",
    "    '34': 'Quảng Nam',\n",
    "    '35': 'Quảng Ngãi',\n",
    "    '36': 'Kon Tum',\n",
    "    '37': 'Bình Định',\n",
    "    '38': 'Gia Lai',\n",
    "    '39': 'Phú Yên',\n",
    "    '40': 'Đăk Lăk',\n",
    "    '41': 'Khánh Hòa',\n",
    "    '42': 'Lâm Đồng',\n",
    "    '43': 'Bình Phước',\n",
    "    '44': 'Bình Dương',\n",
    "    '45': 'Ninh Thuận',\n",
    "    '46': 'Tây Ninh',\n",
    "    '47': 'Bình Thuận',\n",
    "    '48': 'Đồng Nai',\n",
    "    '49': 'Long An',\n",
    "    '50': 'Đồng Tháp',\n",
    "    '51': 'An Giang',\n",
    "    '52': 'Bà Rịa - Vũng Tàu',\n",
    "    '53': 'Tiền Giang',\n",
    "    '54': 'Kiên Giang',\n",
    "    '55': 'Cần Thơ',\n",
    "    '56': 'Bến Tre',\n",
    "    '57': 'Vĩnh Long',\n",
    "    '58': 'Trà Vinh',\n",
    "    '59': 'Sóc Trăng',\n",
    "    '60': 'Bạc Liêu',\n",
    "    '61': 'Cà Mau',\n",
    "    '62': 'Điện Biên',\n",
    "    '63': 'Đăk Nông',\n",
    "    '64': 'Hậu Giang'\n",
    "}\n",
    "    return provinces.get(province_code, 'Mã tỉnh không hợp lệ')\n",
    "\n",
    "# Áp dụng hàm lên từng hàng trong dataframe\n",
    "df['tinh_thi'] = df['sbd'].apply(lambda x: get_tinh_thi(str(x)))\n",
    "\n",
    "# Lưu kết quả vào file mới và ko làm thay đổi chỉ số index ban đầu\n",
    "df.to_csv('diem2022.csv', index=False)\n",
    "\n",
    "'''"
   ],
   "id": "ac963b70df476548",
   "outputs": [
    {
     "data": {
      "text/plain": [
       "\"\\ndf = pd.read_csv('diem2022.csv')\\n# Hàm xác định mã tỉnh từ 2 chữ số đầu\\ndef get_tinh_thi(sbd):\\n    # Kiểm tra nếu số báo danh có 7 chữ số, thêm 1 số 0 vào đầu\\n    if len(sbd) == 7:\\n        sbd = '0' + sbd\\n\\n    # Lấy 2 chữ số đầu để xác định mã tỉnh\\n    province_code = sbd[:2]\\n\\n    # Danh sách mã tỉnh\\n    provinces = {\\n    '01': 'Hà Nội',\\n    '02': 'TP. Hồ Chí Minh',\\n    '03': 'Hải Phòng',\\n    '04': 'Đà Nẵng',\\n    '05': 'Hà Giang',\\n    '06': 'Cao Bằng',\\n    '07': 'Lai Châu',\\n    '08': 'Lào Cai',\\n    '09': 'Tuyên Quang',\\n    '10': 'Lạng Sơn',\\n    '11': 'Bắc Kạn',\\n    '12': 'Thái Nguyên',\\n    '13': 'Yên Bái',\\n    '14': 'Sơn La',\\n    '15': 'Phú Thọ',\\n    '16': 'Vĩnh Phúc',\\n    '17': 'Quảng Ninh',\\n    '18': 'Bắc Giang',\\n    '19': 'Bắc Ninh',\\n    '21': 'Hải Dương',\\n    '22': 'Hưng Yên',\\n    '23': 'Hòa Bình',\\n    '24': 'Hà Nam',\\n    '25': 'Nam Định',\\n    '26': 'Thái Bình',\\n    '27': 'Ninh Bình',\\n    '28': 'Thanh Hóa',\\n    '29': 'Nghệ An',\\n    '30': 'Hà Tĩnh',\\n    '31': 'Quảng Bình',\\n    '32': 'Quảng Trị',\\n    '33': 'Thừa Thiên Huế',\\n    '34': 'Quảng Nam',\\n    '35': 'Quảng Ngãi',\\n    '36': 'Kon Tum',\\n    '37': 'Bình Định',\\n    '38': 'Gia Lai',\\n    '39': 'Phú Yên',\\n    '40': 'Đăk Lăk',\\n    '41': 'Khánh Hòa',\\n    '42': 'Lâm Đồng',\\n    '43': 'Bình Phước',\\n    '44': 'Bình Dương',\\n    '45': 'Ninh Thuận',\\n    '46': 'Tây Ninh',\\n    '47': 'Bình Thuận',\\n    '48': 'Đồng Nai',\\n    '49': 'Long An',\\n    '50': 'Đồng Tháp',\\n    '51': 'An Giang',\\n    '52': 'Bà Rịa - Vũng Tàu',\\n    '53': 'Tiền Giang',\\n    '54': 'Kiên Giang',\\n    '55': 'Cần Thơ',\\n    '56': 'Bến Tre',\\n    '57': 'Vĩnh Long',\\n    '58': 'Trà Vinh',\\n    '59': 'Sóc Trăng',\\n    '60': 'Bạc Liêu',\\n    '61': 'Cà Mau',\\n    '62': 'Điện Biên',\\n    '63': 'Đăk Nông',\\n    '64': 'Hậu Giang'\\n}\\n    return provinces.get(province_code, 'Mã tỉnh không hợp lệ')\\n\\n# Áp dụng hàm lên từng hàng trong dataframe\\ndf['tinh_thi'] = df['sbd'].apply(lambda x: get_tinh_thi(str(x)))\\n\\n# Lưu kết quả vào file mới và ko làm thay đổi chỉ số index ban đầu\\ndf.to_csv('diem2022.csv', index=False)\\n\\n\""
      ]
     },
     "execution_count": 9,
     "metadata": {},
     "output_type": "execute_result"
    }
   ],
   "execution_count": 9
  },
  {
   "metadata": {},
   "cell_type": "raw",
   "source": "3. Thêm cột năm thi vào từng file dữ liệu gốc",
   "id": "752970f198427374"
  },
  {
   "metadata": {
    "ExecuteTime": {
     "end_time": "2024-11-18T01:57:00.682720Z",
     "start_time": "2024-11-18T01:57:00.669725Z"
    }
   },
   "cell_type": "code",
   "source": [
    "'''\n",
    "df = pd.read_csv('diem2022.csv')\n",
    "df['nam_thi'] = 2022\n",
    "df.to_csv('diem2022.csv', index=False)\n",
    "'''"
   ],
   "id": "dc1d0ebb0d465105",
   "outputs": [
    {
     "data": {
      "text/plain": [
       "\"\\ndf = pd.read_csv('diem2022.csv')\\ndf['nam_thi'] = 2022\\ndf.to_csv('diem2022.csv', index=False)\\n\""
      ]
     },
     "execution_count": 10,
     "metadata": {},
     "output_type": "execute_result"
    }
   ],
   "execution_count": 10
  },
  {
   "metadata": {},
   "cell_type": "raw",
   "source": "4. Kiểm tra xem có dữ liệu điểm bất thương nào không như là: điểm > 10 hoặc điểm < 0",
   "id": "98b33645bbe4aba1"
  },
  {
   "metadata": {
    "ExecuteTime": {
     "end_time": "2024-11-26T08:37:52.477948Z",
     "start_time": "2024-11-26T08:37:51.564743Z"
    }
   },
   "cell_type": "code",
   "source": [
    "import pandas as pd\n",
    "\n",
    "df = pd.read_csv('diem2022.csv')\n",
    "\n",
    "# Kiểm tra xem có giá trị nào bất thường trong cột 'toan' không\n",
    "diem_bat_thuong = df[(df['toan'] < 0) | (df['toan'] > 10)]\n",
    "\n",
    "if not diem_bat_thuong.empty:\n",
    "    print('Có điểm bất thường trong cột toán:')\n",
    "    print(diem_bat_thuong)\n",
    "else:\n",
    "    print('Không có điểm bất thường trong cột toán.')\n"
   ],
   "id": "71222975f345a787",
   "outputs": [
    {
     "name": "stdout",
     "output_type": "stream",
     "text": [
      "Không có điểm bất thường trong cột toán.\n"
     ]
    }
   ],
   "execution_count": 3
  },
  {
   "metadata": {
    "ExecuteTime": {
     "end_time": "2024-11-26T08:38:18.333362Z",
     "start_time": "2024-11-26T08:38:17.323493Z"
    }
   },
   "cell_type": "code",
   "source": [
    "# kiểm tra điểm văn bất tưởng\n",
    "df_2024 = pd.read_csv('diem2024.csv')\n",
    "mis = df_2024[(df_2024['ngu_van'] % 0.25 != 0) & (df_2024['ngu_van'].notnull())]\n",
    "print(mis)\n"
   ],
   "id": "5874de2f74a79f39",
   "outputs": [
    {
     "name": "stdout",
     "output_type": "stream",
     "text": [
      "              sbd  toan  ngu_van  ngoai_ngu  vat_li  hoa_hoc  sinh_hoc  \\\n",
      "558       1000564   6.0     6.58        6.8    3.50     3.75      4.25   \n",
      "3955      1003999   6.8     6.58        9.0    6.00     5.25      6.25   \n",
      "4023      1004067   7.0     7.42        7.6     NaN      NaN       NaN   \n",
      "4436      1004481   6.6     7.83        5.8    8.25     7.50      6.25   \n",
      "6012      1006087   8.6     6.58        9.6    9.00     6.00      7.75   \n",
      "...           ...   ...      ...        ...     ...      ...       ...   \n",
      "1061001  64006679   6.0     7.08        4.0     NaN      NaN       NaN   \n",
      "1061120  64006801   4.4     8.33        2.2     NaN      NaN       NaN   \n",
      "1061149  64006831   5.2     6.41        2.6     NaN      NaN       NaN   \n",
      "1061445  64007127   7.6     7.16        6.2     NaN      NaN       NaN   \n",
      "1061451  64007133   4.8     6.83        2.6     NaN      NaN       NaN   \n",
      "\n",
      "         lich_su  dia_li  gdcd    a00    a01    b00    d00    c00   tinh_thi  \\\n",
      "558          NaN     NaN   NaN  13.25  16.30  14.00  19.38    NaN     Hà Nội   \n",
      "3955         NaN     NaN   NaN  18.05  21.80  18.30  22.38    NaN     Hà Nội   \n",
      "4023        6.00    6.50  7.25    NaN    NaN    NaN  22.02  19.92     Hà Nội   \n",
      "4436         NaN     NaN   NaN  22.35  20.65  20.35  20.23    NaN     Hà Nội   \n",
      "6012         NaN     NaN   NaN  23.60  27.20  22.35  24.78    NaN     Hà Nội   \n",
      "...          ...     ...   ...    ...    ...    ...    ...    ...        ...   \n",
      "1061001     5.00    6.00  7.50    NaN    NaN    NaN  17.08  18.08  Hậu Giang   \n",
      "1061120     6.50    6.25  6.75    NaN    NaN    NaN  14.93  21.08  Hậu Giang   \n",
      "1061149     5.75    7.50  7.75    NaN    NaN    NaN  14.21  19.66  Hậu Giang   \n",
      "1061445     8.75    9.00  9.25    NaN    NaN    NaN  20.96  24.91  Hậu Giang   \n",
      "1061451     5.00    8.50  7.50    NaN    NaN    NaN  14.23  20.33  Hậu Giang   \n",
      "\n",
      "         nam_thi  \n",
      "558         2024  \n",
      "3955        2024  \n",
      "4023        2024  \n",
      "4436        2024  \n",
      "6012        2024  \n",
      "...          ...  \n",
      "1061001     2024  \n",
      "1061120     2024  \n",
      "1061149     2024  \n",
      "1061445     2024  \n",
      "1061451     2024  \n",
      "\n",
      "[3195 rows x 17 columns]\n"
     ]
    }
   ],
   "execution_count": 4
  },
  {
   "metadata": {},
   "cell_type": "code",
   "outputs": [],
   "execution_count": null,
   "source": [
    "# xử lý làm tròn điểm bất thưởng môn văn\n",
    "'''\n",
    "from numpy import float64\n",
    "def lam_tron(val):\n",
    "    if np.isnan(val):\n",
    "        return val\n",
    "    tmp = val - int(val)\n",
    "    if tmp == 0 or tmp == 0.25 or tmp == 0.5 or tmp == 0.75:\n",
    "        return float64(val)\n",
    "    elif tmp > 0 and tmp < 0.25:\n",
    "        return float64(int(val))\n",
    "    elif tmp > 0.25 and tmp < 0.75:\n",
    "        return float64(int(val) + 0.5)\n",
    "    else:\n",
    "        return float64(int(val) + 1)\n",
    "\n",
    "df_2024['ngu_van'] = df_2024['ngu_van'].apply(lam_tron)\n",
    "df_2024.to_csv('diem2024.csv', index=False)\n",
    "'''\n"
   ],
   "id": "78c98a6fd69efc77"
  }
 ],
 "metadata": {
  "kernelspec": {
   "display_name": "Python 3",
   "language": "python",
   "name": "python3"
  },
  "language_info": {
   "codemirror_mode": {
    "name": "ipython",
    "version": 2
   },
   "file_extension": ".py",
   "mimetype": "text/x-python",
   "name": "python",
   "nbconvert_exporter": "python",
   "pygments_lexer": "ipython2",
   "version": "2.7.6"
  }
 },
 "nbformat": 4,
 "nbformat_minor": 5
}
