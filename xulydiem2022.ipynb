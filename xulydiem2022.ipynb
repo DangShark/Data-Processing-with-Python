{
 "cells": [
  {
   "cell_type": "code",
   "id": "initial_id",
   "metadata": {
    "collapsed": true,
    "ExecuteTime": {
     "end_time": "2024-11-17T01:46:43.691014Z",
     "start_time": "2024-11-17T01:46:42.887163Z"
    }
   },
   "source": [
    "import numpy as np\n",
    "import pandas as pd\n",
    "import matplotlib.pyplot as plt"
   ],
   "outputs": [],
   "execution_count": 1
  },
  {
   "metadata": {
    "ExecuteTime": {
     "end_time": "2024-11-17T01:52:27.491194Z",
     "start_time": "2024-11-17T01:52:21.833664Z"
    }
   },
   "cell_type": "code",
   "source": [
    "\n",
    "import pandas as pd\n",
    "\n",
    "# Đọc file CSV\n",
    "df = pd.read_csv('diem2022.csv')\n",
    "print(df.dtypes)\n",
    "# Thêm các cột khối với tổng điểm 3 môn tương ứng\n",
    "df['a00'] = round((df['toan'] + df['vat_li'] + df['hoa_hoc']),2)  # Khối A00: Toán, Lý, Hóa\n",
    "df['a01'] = round((df['toan'] + df['vat_li'] + df['ngoai_ngu']),2)  # Khối A01: Toán, Lý, Anh\n",
    "df['b00'] = round((df['toan'] + df['hoa_hoc'] + df['sinh_hoc']),2)\n",
    "df['d00'] = round((df['toan'] + df['ngu_van'] + df['ngoai_ngu']),2)   # Khối D00: Toán, Văn, Anh\n",
    "df['c00'] = round((df['ngu_van'] + df['lich_su'] + df['dia_li']),2)   # Khối C00: Văn, Sử, Địa\n",
    "# # Lưu lại DataFrame đã chỉnh sửa vào file CSV gốc\n",
    "df.to_csv('diem2022.csv', index=False)\n"
   ],
   "id": "e10b15ddd1081436",
   "outputs": [
    {
     "name": "stdout",
     "output_type": "stream",
     "text": [
      "sbd            int64\n",
      "toan         float64\n",
      "ngu_van      float64\n",
      "ngoai_ngu    float64\n",
      "vat_li       float64\n",
      "hoa_hoc      float64\n",
      "sinh_hoc     float64\n",
      "lich_su      float64\n",
      "dia_li       float64\n",
      "gdcd         float64\n",
      "dtype: object\n"
     ]
    }
   ],
   "execution_count": 5
  },
  {
   "metadata": {
    "ExecuteTime": {
     "end_time": "2024-11-17T01:54:40.446677Z",
     "start_time": "2024-11-17T01:54:31.320447Z"
    }
   },
   "cell_type": "code",
   "source": [
    "import pandas as pd\n",
    "\n",
    "# Đọc file CSV\n",
    "df = pd.read_csv('diem2022.csv')\n",
    "\n",
    "# Hàm xác định mã tỉnh từ 2 chữ số đầu\n",
    "def get_tinh_thi(sbd):\n",
    "    # Kiểm tra nếu số báo danh có 7 chữ số, thêm 1 số 0 vào đầu\n",
    "    if len(sbd) == 7:\n",
    "        sbd = '0' + sbd\n",
    "\n",
    "    # Lấy 2 chữ số đầu để xác định mã tỉnh\n",
    "    province_code = sbd[:2]\n",
    "\n",
    "    # Danh sách mã tỉnh\n",
    "    provinces = {\n",
    "        \"01\": \"ha_noi\", \"02\": \"ho_chi_minh\", \"03\": \"hai_phong\", \"04\": \"da_nang\",\n",
    "    \"05\": \"ha_giang\", \"06\": \"cao_bang\", \"07\": \"lai_chau\", \"08\": \"lao_cai\",\n",
    "    \"09\": \"tuyen_quang\", \"10\": \"lang_son\", \"11\": \"bac_kan\", \"12\": \"thai_nguyen\",\n",
    "    \"13\": \"yen_bai\", \"14\": \"son_la\", \"15\": \"phu_tho\", \"16\": \"vinh_phuc\",\n",
    "    \"17\": \"quang_ninh\", \"18\": \"bac_giang\", \"19\": \"bac_ninh\", \"21\": \"hai_duong\",\n",
    "    \"22\": \"hung_yen\", \"23\": \"hoa_binh\", \"24\": \"ha_nam\", \"25\": \"nam_dinh\",\n",
    "    \"26\": \"thai_binh\", \"27\": \"ninh_binh\", \"28\": \"thanh_hoa\", \"29\": \"nghe_an\",\n",
    "    \"30\": \"ha_tinh\", \"31\": \"quang_binh\", \"32\": \"quang_tri\", \"33\": \"thua_thien_hue\",\n",
    "    \"34\": \"quang_nam\", \"35\": \"quang_ngai\", \"36\": \"kon_tum\", \"37\": \"binh_dinh\",\n",
    "    \"38\": \"gia_lai\", \"39\": \"phu_yen\", \"40\": \"dak_lak\", \"41\": \"khanh_hoa\",\n",
    "    \"42\": \"lam_dong\", \"43\": \"binh_phuoc\", \"44\": \"binh_duong\", \"45\": \"ninh_thuan\",\n",
    "    \"46\": \"tay_ninh\", \"47\": \"binh_thuan\", \"48\": \"dong_nai\", \"49\": \"long_an\",\n",
    "    \"50\": \"dong_thap\", \"51\": \"an_giang\", \"52\": \"ba_ria_vung_tau\", \"53\": \"tien_giang\",\n",
    "    \"54\": \"kien_giang\", \"55\": \"can_tho\", \"56\": \"ben_tre\", \"57\": \"vinh_long\",\n",
    "    \"58\": \"tra_vinh\", \"59\": \"soc_trang\", \"60\": \"bac_lieu\", \"61\": \"ca_mau\",\n",
    "    \"62\": \"dien_bien\", \"63\": \"dak_nong\", \"64\": \"hau_giang\"\n",
    "    }\n",
    "\n",
    "    return provinces.get(province_code, 'Mã tỉnh không hợp lệ')\n",
    "\n",
    "# Áp dụng hàm lên từng hàng trong dataframe\n",
    "df['tinh_thi'] = df['sbd'].apply(lambda x: get_tinh_thi(str(x)))\n",
    "\n",
    "# Lưu kết quả vào file mới\n",
    "df.to_csv('diem2022.csv', index=False)\n",
    "\n",
    "print(\"Đã thêm cột 'tinh_thi' thành công!\")"
   ],
   "id": "ac963b70df476548",
   "outputs": [
    {
     "name": "stdout",
     "output_type": "stream",
     "text": [
      "Đã thêm cột 'tinh_thi' thành công!\n"
     ]
    }
   ],
   "execution_count": 6
  }
 ],
 "metadata": {
  "kernelspec": {
   "display_name": "Python 3",
   "language": "python",
   "name": "python3"
  },
  "language_info": {
   "codemirror_mode": {
    "name": "ipython",
    "version": 2
   },
   "file_extension": ".py",
   "mimetype": "text/x-python",
   "name": "python",
   "nbconvert_exporter": "python",
   "pygments_lexer": "ipython2",
   "version": "2.7.6"
  }
 },
 "nbformat": 4,
 "nbformat_minor": 5
}
